{
 "cells": [
  {
   "cell_type": "code",
   "execution_count": 1,
   "source": [
    "import sys\r\n",
    "import os\r\n",
    "from json import dumps, loads\r\n",
    "sys.path.append(os.path.abspath(os.path.join('../scripts')))\r\n",
    "from KafkaClient import KafkaClient\r\n"
   ],
   "outputs": [],
   "metadata": {}
  },
  {
   "cell_type": "code",
   "execution_count": 2,
   "source": [
    "%load_ext autoreload\r\n",
    "%autoreload 2"
   ],
   "outputs": [],
   "metadata": {}
  },
  {
   "cell_type": "code",
   "execution_count": 3,
   "source": [
    "\r\n",
    "kf_client = KafkaClient(\r\n",
    "    'milkyb',\r\n",
    "    [\r\n",
    "        'localhost:9092',\r\n",
    "        'localhost:9093',\r\n",
    "        'localhost:9094'\r\n",
    "    ]\r\n",
    ")"
   ],
   "outputs": [
    {
     "output_type": "stream",
     "name": "stderr",
     "text": [
      "KafkaClient:INFO->SUCCESSFULLY CREATED KafkaClient OBJECT INSTANCE.\n",
      "SERVERS:\n",
      "\n"
     ]
    },
    {
     "output_type": "stream",
     "name": "stdout",
     "text": [
      "\t1 - localhost:9092\n",
      "\t2 - localhost:9093\n",
      "\t3 - localhost:9094\n"
     ]
    }
   ],
   "metadata": {}
  },
  {
   "cell_type": "code",
   "execution_count": 4,
   "source": [
    "kf_client.create_admin_client()"
   ],
   "outputs": [
    {
     "output_type": "stream",
     "name": "stderr",
     "text": [
      "KafkaClient:INFO->SUCCESSFULLY CREATED A KAFKA ADMIN CLIENT\n"
     ]
    }
   ],
   "metadata": {}
  },
  {
   "cell_type": "code",
   "execution_count": 5,
   "source": [
    "print(kf_client.get_topics())"
   ],
   "outputs": [
    {
     "output_type": "stream",
     "name": "stderr",
     "text": [
      "KafkaClient:INFO->SUCCESSFULLY FETCHED KAFKA TOPICS\n"
     ]
    },
    {
     "output_type": "stream",
     "name": "stdout",
     "text": [
      "['Text-Corpus', '__consumer_offsets']\n"
     ]
    }
   ],
   "metadata": {}
  },
  {
   "cell_type": "code",
   "execution_count": 6,
   "source": [
    "kf_client.create_consumer(\r\n",
    "    topics='Text-Corpus',\r\n",
    "    offset='earliest',\r\n",
    "    auto_commit=True,\r\n",
    "    group_id='abebe',\r\n",
    "    value_deserializer=kf_client.get_json_deserializer(),\r\n",
    "    timeout=1000)\r\n"
   ],
   "outputs": [
    {
     "output_type": "stream",
     "name": "stderr",
     "text": [
      "KafkaClient:INFO->SUCCESSFULLY CREATED A KAFKA CONSUMER\n"
     ]
    }
   ],
   "metadata": {}
  },
  {
   "cell_type": "code",
   "execution_count": null,
   "source": [
    "# kf_client.consumer.DEFAULT_CONFIG['session_timeout_ms'] = 3000\r\n",
    "# kf_client.consumer.DEFAULT_CONFIG"
   ],
   "outputs": [],
   "metadata": {}
  },
  {
   "cell_type": "code",
   "execution_count": 10,
   "source": [
    "kf_client.get_data()"
   ],
   "outputs": [
    {
     "output_type": "stream",
     "name": "stderr",
     "text": [
      "KafkaClient:INFO->SUCCESSFULLY FETCHED 15 DATA VALUES\n",
      "KafkaClient:INFO->SUCCESSFULLY FETCHED 15 DATA VALUES\n"
     ]
    },
    {
     "output_type": "execute_result",
     "data": {
      "text/plain": [
       "[{'number': 1},\n",
       " {'number': 4},\n",
       " {'number': 10},\n",
       " {'number': 14},\n",
       " {'number': 3},\n",
       " {'number': 6},\n",
       " {'number': 7},\n",
       " {'number': 9},\n",
       " {'number': 12},\n",
       " {'number': 13},\n",
       " {'number': 2},\n",
       " {'number': 11},\n",
       " {'number': 15},\n",
       " {'number': 5},\n",
       " {'number': 8}]"
      ]
     },
     "metadata": {},
     "execution_count": 10
    }
   ],
   "metadata": {}
  },
  {
   "cell_type": "code",
   "execution_count": 11,
   "source": [
    "kf_client.get_data()"
   ],
   "outputs": [
    {
     "output_type": "stream",
     "name": "stderr",
     "text": [
      "KafkaClient:INFO->SUCCESSFULLY FETCHED 3 DATA VALUES\n",
      "KafkaClient:INFO->SUCCESSFULLY FETCHED 3 DATA VALUES\n"
     ]
    },
    {
     "output_type": "execute_result",
     "data": {
      "text/plain": [
       "[{'number': 2000}, {'number': 3000}, {'number': 1000}]"
      ]
     },
     "metadata": {},
     "execution_count": 11
    }
   ],
   "metadata": {}
  },
  {
   "cell_type": "code",
   "execution_count": 12,
   "source": [
    "kf_client.create_consumer(\r\n",
    "    topics='Text-Corpus',\r\n",
    "    offset='earliest',\r\n",
    "    auto_commit=True,\r\n",
    "    group_id='debebe',\r\n",
    "    value_deserializer=kf_client.get_json_deserializer(),\r\n",
    "    timeout=1000)"
   ],
   "outputs": [
    {
     "output_type": "stream",
     "name": "stderr",
     "text": [
      "KafkaClient:INFO->SUCCESSFULLY CREATED A KAFKA CONSUMER\n",
      "KafkaClient:INFO->SUCCESSFULLY CREATED A KAFKA CONSUMER\n"
     ]
    }
   ],
   "metadata": {}
  },
  {
   "cell_type": "code",
   "execution_count": 13,
   "source": [
    "kf_client.get_data()"
   ],
   "outputs": [
    {
     "output_type": "stream",
     "name": "stderr",
     "text": [
      "KafkaClient:INFO->SUCCESSFULLY FETCHED 111 DATA VALUES\n",
      "KafkaClient:INFO->SUCCESSFULLY FETCHED 111 DATA VALUES\n"
     ]
    },
    {
     "output_type": "execute_result",
     "data": {
      "text/plain": [
       "[{'number': 200},\n",
       " {'number': 900},\n",
       " {'number': 110},\n",
       " {'number': 152},\n",
       " {'number': 600},\n",
       " {'number': 300},\n",
       " {'number': 700},\n",
       " {'number': 100},\n",
       " {'number': 800},\n",
       " {'number': 1},\n",
       " {'number': 11},\n",
       " {'number': 152},\n",
       " {'number': 200},\n",
       " {'number': 140},\n",
       " {'number': 13},\n",
       " {'number': 400},\n",
       " {'number': 130},\n",
       " {'number': 140},\n",
       " {'number': 400},\n",
       " {'number': 120},\n",
       " {'number': 140},\n",
       " {'number': 152},\n",
       " {'number': 400},\n",
       " {'number': 110},\n",
       " {'number': 130},\n",
       " {'number': 140},\n",
       " {'number': 130},\n",
       " {'number': 3},\n",
       " {'number': 8},\n",
       " {'number': 13},\n",
       " {'number': 15},\n",
       " {'number': 1000},\n",
       " {'number': 600},\n",
       " {'number': 5},\n",
       " {'number': 8},\n",
       " {'number': 800},\n",
       " {'number': 100},\n",
       " {'number': 120},\n",
       " {'number': 200},\n",
       " {'number': 500},\n",
       " {'number': 800},\n",
       " {'number': 900},\n",
       " {'number': 110},\n",
       " {'number': 150},\n",
       " {'number': 600},\n",
       " {'number': 800},\n",
       " {'number': 900},\n",
       " {'number': 120},\n",
       " {'number': 200},\n",
       " {'number': 400},\n",
       " {'number': 600},\n",
       " {'number': 100},\n",
       " {'number': 120},\n",
       " {'number': 150},\n",
       " {'number': 5},\n",
       " {'number': 6},\n",
       " {'number': 9},\n",
       " {'number': 12},\n",
       " {'number': 300},\n",
       " {'number': 400},\n",
       " {'number': 700},\n",
       " {'number': 120},\n",
       " {'number': 2},\n",
       " {'number': 11},\n",
       " {'number': 15},\n",
       " {'number': 1000},\n",
       " {'number': 152},\n",
       " {'number': 300},\n",
       " {'number': 500},\n",
       " {'number': 600},\n",
       " {'number': 150},\n",
       " {'number': 700},\n",
       " {'number': 100},\n",
       " {'number': 500},\n",
       " {'number': 152},\n",
       " {'number': 300},\n",
       " {'number': 110},\n",
       " {'number': 140},\n",
       " {'number': 2},\n",
       " {'number': 4},\n",
       " {'number': 10},\n",
       " {'number': 2000},\n",
       " {'number': 3000},\n",
       " {'number': 500},\n",
       " {'number': 100},\n",
       " {'number': 110},\n",
       " {'number': 130},\n",
       " {'number': 150},\n",
       " {'number': 3},\n",
       " {'number': 6},\n",
       " {'number': 7},\n",
       " {'number': 9},\n",
       " {'number': 12},\n",
       " {'number': 700},\n",
       " {'number': 300},\n",
       " {'number': 130},\n",
       " {'number': 200},\n",
       " {'number': 150},\n",
       " {'number': 500},\n",
       " {'number': 700},\n",
       " {'number': 900},\n",
       " {'number': 7},\n",
       " {'number': 14},\n",
       " {'number': 800},\n",
       " {'number': 900},\n",
       " {'number': 1},\n",
       " {'number': 4},\n",
       " {'number': 10},\n",
       " {'number': 14},\n",
       " {'number': 2000},\n",
       " {'number': 3000}]"
      ]
     },
     "metadata": {},
     "execution_count": 13
    }
   ],
   "metadata": {}
  },
  {
   "cell_type": "code",
   "execution_count": null,
   "source": [],
   "outputs": [],
   "metadata": {}
  }
 ],
 "metadata": {
  "orig_nbformat": 4,
  "language_info": {
   "name": "python",
   "version": "3.8.4",
   "mimetype": "text/x-python",
   "codemirror_mode": {
    "name": "ipython",
    "version": 3
   },
   "pygments_lexer": "ipython3",
   "nbconvert_exporter": "python",
   "file_extension": ".py"
  },
  "kernelspec": {
   "name": "python3",
   "display_name": "Python 3.8.4 64-bit"
  },
  "interpreter": {
   "hash": "2db524e06e9f5f4ffedc911c917cb75e12dbc923643829bf417064a77eb14d37"
  }
 },
 "nbformat": 4,
 "nbformat_minor": 2
}