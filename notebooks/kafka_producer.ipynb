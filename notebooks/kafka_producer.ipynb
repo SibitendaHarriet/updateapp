{
 "cells": [
  {
   "cell_type": "code",
   "execution_count": 2,
   "source": [
    "import sys\r\n",
    "import os\r\n",
    "from json import dumps, loads\r\n",
    "sys.path.append(os.path.abspath(os.path.join('../scripts')))\r\n",
    "from KafkaClient import KafkaClient\r\n"
   ],
   "outputs": [],
   "metadata": {}
  },
  {
   "cell_type": "code",
   "execution_count": 3,
   "source": [
    "%load_ext autoreload\r\n",
    "%autoreload 2"
   ],
   "outputs": [],
   "metadata": {}
  },
  {
   "cell_type": "code",
   "execution_count": 4,
   "source": [
    "\r\n",
    "kf_client = KafkaClient(\r\n",
    "    'milkyb',\r\n",
    "    [\r\n",
    "        'localhost:9092',\r\n",
    "        'localhost:9093',\r\n",
    "        'localhost:9094'\r\n",
    "    ]\r\n",
    ")"
   ],
   "outputs": [
    {
     "output_type": "stream",
     "name": "stderr",
     "text": [
      "KafkaClient:INFO->SUCCESSFULLY CREATED KafkaClient OBJECT INSTANCE.\n",
      "SERVERS:\n",
      "\n"
     ]
    },
    {
     "output_type": "stream",
     "name": "stdout",
     "text": [
      "\t1 - localhost:9092\n",
      "\t2 - localhost:9093\n",
      "\t3 - localhost:9094\n"
     ]
    }
   ],
   "metadata": {}
  },
  {
   "cell_type": "code",
   "execution_count": 5,
   "source": [
    "kf_client.create_admin_client()"
   ],
   "outputs": [
    {
     "output_type": "stream",
     "name": "stderr",
     "text": [
      "KafkaClient:INFO->SUCCESSFULLY CREATED A KAFKA ADMIN CLIENT\n"
     ]
    }
   ],
   "metadata": {}
  },
  {
   "cell_type": "code",
   "execution_count": 6,
   "source": [
    "print(kf_client.get_topics())"
   ],
   "outputs": [
    {
     "output_type": "stream",
     "name": "stderr",
     "text": [
      "KafkaClient:INFO->SUCCESSFULLY FETCHED KAFKA TOPICS\n"
     ]
    },
    {
     "output_type": "stream",
     "name": "stdout",
     "text": [
      "['Text-Corpus', '__consumer_offsets']\n"
     ]
    }
   ],
   "metadata": {}
  },
  {
   "cell_type": "code",
   "execution_count": 7,
   "source": [
    "kf_client.create_producer(value_serializer=kf_client.get_json_serializer())\r\n"
   ],
   "outputs": [
    {
     "output_type": "stream",
     "name": "stderr",
     "text": [
      "KafkaClient:INFO->SUCCESSFULLY CREATED A KAFKA PRODUCER\n"
     ]
    }
   ],
   "metadata": {}
  },
  {
   "cell_type": "code",
   "execution_count": 8,
   "source": [
    "kf_client.send_data(topic_name='Text-Corpus', data_list=[{'number': 152}, {'number': 200}, {'number': 300}, {'number': 400}, {'number': 500}, {'number': 600}, {\r\n",
    "                    'number': 700}, {'number': 800}, {'number': 900}, {'number': 100}, {'number': 110}, {'number': 120}, {'number': 130}, {'number': 140}, {'number': 150}])\r\n"
   ],
   "outputs": [
    {
     "output_type": "stream",
     "name": "stderr",
     "text": [
      "KafkaClient:INFO->SUCCESSFULLY SENT DATA\n"
     ]
    }
   ],
   "metadata": {}
  },
  {
   "cell_type": "code",
   "execution_count": 9,
   "source": [
    "kf_client.send_data(topic_name='Text-Corpus', data_list=[{'number': 1}, {'number': 2}, {'number': 3}, {'number': 4}, {'number': 5}, {'number': 6}, {\r\n",
    "                    'number': 7}, {'number': 8}, {'number': 9}, {'number': 10}, {'number': 11}, {'number': 12}, {'number': 13}, {'number': 14}, {'number': 15}])\r\n"
   ],
   "outputs": [
    {
     "output_type": "stream",
     "name": "stderr",
     "text": [
      "KafkaClient:INFO->SUCCESSFULLY SENT 15 DATA VALUES\n",
      "KafkaClient:INFO->SUCCESSFULLY SENT 15 DATA VALUES\n"
     ]
    }
   ],
   "metadata": {}
  },
  {
   "cell_type": "code",
   "execution_count": 10,
   "source": [
    "kf_client.send_data(topic_name='Text-Corpus', data_list=[{'number': 1000}, {'number': 2000}, {'number': 3000}])\r\n"
   ],
   "outputs": [
    {
     "output_type": "stream",
     "name": "stderr",
     "text": [
      "KafkaClient:INFO->SUCCESSFULLY SENT 3 DATA VALUES\n",
      "KafkaClient:INFO->SUCCESSFULLY SENT 3 DATA VALUES\n"
     ]
    }
   ],
   "metadata": {}
  },
  {
   "cell_type": "markdown",
   "source": [
    "# Simulating airflows task of reading from AWS server and feeding text files"
   ],
   "metadata": {}
  },
  {
   "cell_type": "code",
   "execution_count": 19,
   "source": [
    "# imports\r\n",
    "from AWSClient import AWSClient\r\n",
    "from json import loads"
   ],
   "outputs": [],
   "metadata": {}
  },
  {
   "cell_type": "markdown",
   "source": [
    "## read from AWS an example text corpus file"
   ],
   "metadata": {}
  },
  {
   "cell_type": "code",
   "execution_count": 12,
   "source": [
    "# create awsclient\r\n",
    "aws_client = AWSClient()"
   ],
   "outputs": [
    {
     "output_type": "stream",
     "name": "stderr",
     "text": [
      "AWSClient:INFO->AWSClient INSTANCE SUCCESSFULLY CREATED\n"
     ]
    }
   ],
   "metadata": {}
  },
  {
   "cell_type": "code",
   "execution_count": 14,
   "source": [
    "files = aws_client.get_file_names('unprocessed-stt')\r\n",
    "files"
   ],
   "outputs": [
    {
     "output_type": "stream",
     "name": "stderr",
     "text": [
      "AWSClient:INFO->unprocessed-stt BUCKETS FILE NAMES SUCCESSFULLY FETCHED\n"
     ]
    },
    {
     "output_type": "execute_result",
     "data": {
      "text/plain": [
       "['trail_text_corpus.json']"
      ]
     },
     "metadata": {},
     "execution_count": 14
    }
   ],
   "metadata": {}
  },
  {
   "cell_type": "code",
   "execution_count": 23,
   "source": [
    "data = aws_client.load_file_bytes('unprocessed-stt',files[0])"
   ],
   "outputs": [
    {
     "output_type": "stream",
     "name": "stderr",
     "text": [
      "AWSClient:INFO->SUCCESSFULLY LOADED FILE trail_text_corpus.json AS BYTES\n"
     ]
    }
   ],
   "metadata": {}
  },
  {
   "cell_type": "code",
   "execution_count": 24,
   "source": [
    "data = loads(data)"
   ],
   "outputs": [],
   "metadata": {}
  },
  {
   "cell_type": "code",
   "execution_count": 26,
   "source": [
    "data['0']"
   ],
   "outputs": [
    {
     "output_type": "execute_result",
     "data": {
      "text/plain": [
       "'አገራችን ከአፍሪካም ሆነ ከሌሎች የአለም አገራት ጋር ያላትን አለም አቀፋዊ ግንኙነት ወደ ላቀ ደረጃ ያሸጋገረ ሆኗል በአገር ውስጥ አራት አለም'"
      ]
     },
     "metadata": {},
     "execution_count": 26
    }
   ],
   "metadata": {}
  },
  {
   "cell_type": "markdown",
   "source": [
    "## Sending retrieved text corpus data to kafka servers"
   ],
   "metadata": {}
  },
  {
   "cell_type": "code",
   "execution_count": 27,
   "source": [
    "# Creating a kafka producer with a json serializer\r\n",
    "kf_client.create_producer(value_serializer=kf_client.get_json_serializer())"
   ],
   "outputs": [
    {
     "output_type": "stream",
     "name": "stderr",
     "text": [
      "KafkaClient:INFO->SUCCESSFULLY CREATED A KAFKA PRODUCER\n",
      "KafkaClient:INFO->SUCCESSFULLY CREATED A KAFKA PRODUCER\n"
     ]
    }
   ],
   "metadata": {}
  },
  {
   "cell_type": "code",
   "execution_count": 32,
   "source": [
    "# Generating List Data to send to Kafka\r\n",
    "send_data = []\r\n",
    "for id, text in data.items():\r\n",
    "    send_data.append({f'{id}':text})"
   ],
   "outputs": [],
   "metadata": {}
  },
  {
   "cell_type": "code",
   "execution_count": 33,
   "source": [
    "send_data[0]"
   ],
   "outputs": [
    {
     "output_type": "execute_result",
     "data": {
      "text/plain": [
       "{'0': 'አገራችን ከአፍሪካም ሆነ ከሌሎች የአለም አገራት ጋር ያላትን አለም አቀፋዊ ግንኙነት ወደ ላቀ ደረጃ ያሸጋገረ ሆኗል በአገር ውስጥ አራት አለም'}"
      ]
     },
     "metadata": {},
     "execution_count": 33
    }
   ],
   "metadata": {}
  },
  {
   "cell_type": "code",
   "execution_count": 34,
   "source": [
    "# Sending the created data list to kafka servers\r\n",
    "kf_client.send_data(topic_name='Text-Corpus', data_list=send_data)"
   ],
   "outputs": [
    {
     "output_type": "stream",
     "name": "stderr",
     "text": [
      "KafkaClient:INFO->SUCCESSFULLY SENT 516 DATA VALUES\n",
      "KafkaClient:INFO->SUCCESSFULLY SENT 516 DATA VALUES\n"
     ]
    }
   ],
   "metadata": {}
  },
  {
   "cell_type": "code",
   "execution_count": null,
   "source": [],
   "outputs": [],
   "metadata": {}
  }
 ],
 "metadata": {
  "orig_nbformat": 4,
  "language_info": {
   "name": "python",
   "version": "3.8.4",
   "mimetype": "text/x-python",
   "codemirror_mode": {
    "name": "ipython",
    "version": 3
   },
   "pygments_lexer": "ipython3",
   "nbconvert_exporter": "python",
   "file_extension": ".py"
  },
  "kernelspec": {
   "name": "python3",
   "display_name": "Python 3.8.4 64-bit"
  },
  "interpreter": {
   "hash": "2db524e06e9f5f4ffedc911c917cb75e12dbc923643829bf417064a77eb14d37"
  }
 },
 "nbformat": 4,
 "nbformat_minor": 2
}