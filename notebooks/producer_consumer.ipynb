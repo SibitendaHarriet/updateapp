{
 "cells": [
  {
   "cell_type": "code",
   "execution_count": 1,
   "id": "445adcaf-23f7-451d-8a6a-8121d65b6ad8",
   "metadata": {},
   "outputs": [],
   "source": [
    "from kafka.admin import KafkaAdminClient, NewTopic\n",
    "from kafka.cluster import ClusterMetadata\n",
    "from kafka import KafkaProducer, KafkaConsumer\n",
    "from json import dumps\n",
    "from time import sleep\n",
    "from kafka import KafkaConsumer\n",
    "from json import loads, dumps"
   ]
  },
  {
   "cell_type": "code",
   "execution_count": 82,
   "id": "0e9adf13-064e-4fd3-8d5c-19edc7ae4c84",
   "metadata": {},
   "outputs": [],
   "source": [
    "producer = KafkaProducer(bootstrap_servers=['b-1.demo-cluster-1.9q7lp7.c1.kafka.eu-west-1.amazonaws.com:9092',\n",
    "                                            'b-2.demo-cluster-1.9q7lp7.c1.kafka.eu-west-1.amazonaws.com:9092'],\n",
    "                         value_serializer=lambda x: \n",
    "                         dumps(x).encode('utf-8'))"
   ]
  },
  {
   "cell_type": "code",
   "execution_count": 44,
   "id": "1136d707-4c54-48e5-b0b4-e60f1ec6df9e",
   "metadata": {},
   "outputs": [
    {
     "name": "stdout",
     "output_type": "stream",
     "text": [
      "<class 'kafka.producer.kafka.KafkaProducer'>\n"
     ]
    }
   ],
   "source": [
    "print(type(producer))"
   ]
  },
  {
   "cell_type": "code",
   "execution_count": 78,
   "id": "8018bf5d-e546-4a8c-ac30-8b26288be124",
   "metadata": {},
   "outputs": [],
   "source": [
    "for e in range(20):\n",
    "    data = {'number' : e}\n",
    "    producer.send('Reiten-Text-Corpus', value=data)\n",
    "#     if(e % 5 == 0):\n",
    "#         sleep(2)"
   ]
  },
  {
   "cell_type": "code",
   "execution_count": 42,
   "id": "67ff0f92-64cd-4aa3-bacd-19ee9e4afb4d",
   "metadata": {},
   "outputs": [],
   "source": [
    "consumer = KafkaConsumer(\n",
    "    'Reiten-Text-Corpus',\n",
    "     bootstrap_servers=['b-1.demo-cluster-1.9q7lp7.c1.kafka.eu-west-1.amazonaws.com:9092',\n",
    "                        'b-2.demo-cluster-1.9q7lp7.c1.kafka.eu-west-1.amazonaws.com:9092'],\n",
    "     auto_offset_reset='earliest',\n",
    "     enable_auto_commit=True,\n",
    "     group_id='text-corpus-reader',\n",
    "     value_deserializer=lambda x: loads(x.decode('utf-8')))"
   ]
  },
  {
   "cell_type": "code",
   "execution_count": null,
   "id": "1a8a164f-82fc-4121-9b6b-69f761fb6eb0",
   "metadata": {},
   "outputs": [],
   "source": [
    "for message in consumer:\n",
    "    message = message.value\n",
    "    print('Retrieved message {}'.format(message))"
   ]
  },
  {
   "cell_type": "code",
   "execution_count": 79,
   "id": "3077babe-fefd-4376-af44-afce7d3845ff",
   "metadata": {},
   "outputs": [],
   "source": [
    "def get_data():\n",
    "    for message in consumer:\n",
    "        message = message.value\n",
    "#         print('Retrieved message {}'.format(message))\n",
    "        yield message"
   ]
  },
  {
   "cell_type": "code",
   "execution_count": null,
   "id": "1da7c4e8-8d05-492e-a2a8-9fad7799b49d",
   "metadata": {},
   "outputs": [],
   "source": [
    "a = get_data()\n",
    "list(a)"
   ]
  },
  {
   "cell_type": "code",
   "execution_count": 69,
   "id": "598d408f-2b79-4030-b5af-e31c21b7c9b8",
   "metadata": {},
   "outputs": [],
   "source": [
    "list(a)"
   ]
  },
  {
   "cell_type": "code",
   "execution_count": null,
   "id": "c9c6e846-9c72-4d9f-ae9b-a18cb5c6e4df",
   "metadata": {},
   "outputs": [],
   "source": [
    "next(a)"
   ]
  },
  {
   "cell_type": "code",
   "execution_count": 2,
   "id": "1c95b593-f5ce-4068-8daf-22a18a70dac0",
   "metadata": {},
   "outputs": [],
   "source": [
    "admin_client = KafkaAdminClient(\n",
    "    bootstrap_servers=['b-1.demo-cluster-1.9q7lp7.c1.kafka.eu-west-1.amazonaws.com:9092',\n",
    "                       'b-2.demo-cluster-1.9q7lp7.c1.kafka.eu-west-1.amazonaws.com:9092'], \n",
    "    client_id='admin'\n",
    ")"
   ]
  },
  {
   "cell_type": "code",
   "execution_count": 27,
   "id": "e0c711cb-4d3f-475c-9b65-950c3db26d66",
   "metadata": {},
   "outputs": [
    {
     "data": {
      "text/plain": [
       "['pizza_topic',\n",
       " '__consumer_offsets',\n",
       " 'Benkart_Clean_Audio_Topic',\n",
       " 'Reiten-Text-Corpus',\n",
       " '__amazon_msk_canary',\n",
       " 'Reiten-Text-Audio-Input',\n",
       " 'groupHu_test',\n",
       " 'papa_topic',\n",
       " 'tests_topics',\n",
       " 'test',\n",
       " 'group4_test',\n",
       " 'fumbani_topic',\n",
       " 'news_test_topic',\n",
       " 'test_g6_topic',\n",
       " 'Benkart_Text_Topic',\n",
       " '__amazon_msk_canary_state',\n",
       " 'new_test_topic',\n",
       " 'group_name_Clean_Audio_Topic',\n",
       " 'example_topic_group2',\n",
       " 'Benkart_Raw_Audio_Topic',\n",
       " 'fu_topic',\n",
       " 'jakinda_topic',\n",
       " 'tutorsAWSKafka',\n",
       " 'reiten_topic',\n",
       " 'groupHu_speech',\n",
       " 'group_name_Raw_Audio_Topic',\n",
       " 'group_name_Text_Topic']"
      ]
     },
     "execution_count": 27,
     "metadata": {},
     "output_type": "execute_result"
    }
   ],
   "source": [
    "admin_client.list_topics()"
   ]
  },
  {
   "cell_type": "code",
   "execution_count": 28,
   "id": "9e10c732-e28a-42e2-8311-6eda0755124d",
   "metadata": {},
   "outputs": [
    {
     "name": "stdout",
     "output_type": "stream",
     "text": [
      "None\n"
     ]
    }
   ],
   "source": [
    "cm = ClusterMetadata()\n",
    "print(cm.available_partitions_for_topic(topic='Reiten-Text-Corpus'))"
   ]
  },
  {
   "cell_type": "code",
   "execution_count": 19,
   "id": "788de2ae-12f6-4969-910f-53309e9620e7",
   "metadata": {},
   "outputs": [],
   "source": [
    "topics_list = ['Reiten-Text-Corpus','Reiten-Text-Audio-Input']"
   ]
  },
  {
   "cell_type": "code",
   "execution_count": 21,
   "id": "d20a8897-38a3-4cc1-8950-b28645035b0d",
   "metadata": {},
   "outputs": [
    {
     "data": {
      "text/plain": [
       "DeleteTopicsResponse_v3(throttle_time_ms=0, topic_error_codes=[(topic='Reiten-Text-Corpus', error_code=0), (topic='Reiten-Text-Audio-Input', error_code=0)])"
      ]
     },
     "execution_count": 21,
     "metadata": {},
     "output_type": "execute_result"
    }
   ],
   "source": [
    "admin_client.delete_topics(topics=topics_list)"
   ]
  },
  {
   "cell_type": "code",
   "execution_count": 25,
   "id": "9d5e3ad0-c900-4a8e-bcb4-6508b95a9a87",
   "metadata": {},
   "outputs": [],
   "source": [
    "topics_list = []\n",
    "topics_list.append(NewTopic(name=\"Reiten-Text-Corpus\", num_partitions=5, replication_factor=1))\n",
    "topics_list.append(NewTopic(name=\"Reiten-Text-Audio-Input\", num_partitions=5, replication_factor=1))"
   ]
  },
  {
   "cell_type": "code",
   "execution_count": 26,
   "id": "5b2c6728-523d-4d3f-8024-d9ef4d66afed",
   "metadata": {},
   "outputs": [
    {
     "data": {
      "text/plain": [
       "CreateTopicsResponse_v3(throttle_time_ms=0, topic_errors=[(topic='Reiten-Text-Corpus', error_code=0, error_message=None), (topic='Reiten-Text-Audio-Input', error_code=0, error_message=None)])"
      ]
     },
     "execution_count": 26,
     "metadata": {},
     "output_type": "execute_result"
    }
   ],
   "source": [
    "admin_client.create_topics(new_topics=topics_list)"
   ]
  },
  {
   "cell_type": "code",
   "execution_count": 46,
   "id": "20f7e13e-23f0-484e-b13b-a57291a158b6",
   "metadata": {},
   "outputs": [],
   "source": [
    "a,b = None, None"
   ]
  },
  {
   "cell_type": "code",
   "execution_count": null,
   "id": "f074ec0b-29b4-42a4-967f-beb128583dc7",
   "metadata": {},
   "outputs": [],
   "source": []
  }
 ],
 "metadata": {
  "kernelspec": {
   "display_name": "Python 3 (ipykernel)",
   "language": "python",
   "name": "python3"
  },
  "language_info": {
   "codemirror_mode": {
    "name": "ipython",
    "version": 3
   },
   "file_extension": ".py",
   "mimetype": "text/x-python",
   "name": "python",
   "nbconvert_exporter": "python",
   "pygments_lexer": "ipython3",
   "version": "3.9.5"
  }
 },
 "nbformat": 4,
 "nbformat_minor": 5
}
